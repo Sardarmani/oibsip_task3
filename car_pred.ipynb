{
 "cells": [
  {
   "cell_type": "code",
   "execution_count": 2,
   "id": "df006a8e-fed9-493d-b32b-365de14e957d",
   "metadata": {
    "tags": []
   },
   "outputs": [],
   "source": [
    "import numpy as np\n",
    "import pandas as pd\n",
    "from sklearn.preprocessing import LabelEncoder, OneHotEncoder, StandardScaler\n",
    "from sklearn.model_selection import train_test_split"
   ]
  },
  {
   "cell_type": "code",
   "execution_count": 65,
   "id": "c6732d7f-b80e-4a3f-85d9-74329f22e9b6",
   "metadata": {
    "tags": []
   },
   "outputs": [],
   "source": [
    "data=pd.read_csv(\"car_pred.csv\")"
   ]
  },
  {
   "cell_type": "code",
   "execution_count": 66,
   "id": "a9e82043-45c8-47e6-95c3-0dbcdccb9794",
   "metadata": {
    "tags": []
   },
   "outputs": [
    {
     "data": {
      "text/plain": [
       "Index(['car_ID', 'symboling', 'CarName', 'fueltype', 'aspiration',\n",
       "       'doornumber', 'carbody', 'drivewheel', 'enginelocation', 'wheelbase',\n",
       "       'carlength', 'carwidth', 'carheight', 'curbweight', 'enginetype',\n",
       "       'cylindernumber', 'enginesize', 'fuelsystem', 'boreratio', 'stroke',\n",
       "       'compressionratio', 'horsepower', 'peakrpm', 'citympg', 'highwaympg',\n",
       "       'price'],\n",
       "      dtype='object')"
      ]
     },
     "execution_count": 66,
     "metadata": {},
     "output_type": "execute_result"
    }
   ],
   "source": [
    "data.columns"
   ]
  },
  {
   "cell_type": "code",
   "execution_count": 67,
   "id": "15a475c1-81a4-4a7b-a0ea-afe35157601b",
   "metadata": {
    "tags": []
   },
   "outputs": [],
   "source": [
    "\n",
    "# Encode categorical variables using one-hot encoding\n",
    "categorical_cols = [\"CarName\", \"fueltype\", \"aspiration\", \"doornumber\", \"carbody\", \"drivewheel\", \"enginelocation\", \"enginetype\", \"cylindernumber\", \"fuelsystem\"]\n",
    "data = pd.get_dummies(data, columns=categorical_cols)\n",
    "\n",
    "# Standardize numerical variables\n",
    "numerical_cols = [\"wheelbase\", \"carlength\", \"carwidth\", \"carheight\", \"curbweight\", \"enginesize\", \"boreratio\", \"stroke\", \"compressionratio\", \"horsepower\", \"peakrpm\", \"citympg\", \"highwaympg\",\"price\"]\n",
    "scaler = StandardScaler()\n",
    "data[numerical_cols] = scaler.fit_transform(data[numerical_cols])"
   ]
  },
  {
   "cell_type": "code",
   "execution_count": 68,
   "id": "64495847-f388-4bb9-9d64-e4758cb37578",
   "metadata": {
    "tags": []
   },
   "outputs": [
    {
     "data": {
      "text/plain": [
       "0      0.027391\n",
       "1      0.404461\n",
       "2      0.404461\n",
       "3      0.084485\n",
       "4      0.523668\n",
       "         ...   \n",
       "200    0.447752\n",
       "201    0.723810\n",
       "202    1.029983\n",
       "203    1.153582\n",
       "204    1.173031\n",
       "Name: price, Length: 205, dtype: float64"
      ]
     },
     "execution_count": 68,
     "metadata": {},
     "output_type": "execute_result"
    }
   ],
   "source": [
    "# data=data.drop(data.columns[0],axis=1)\n"
   ]
  },
  {
   "cell_type": "code",
   "execution_count": 69,
   "id": "4a209f13-6575-468c-88b3-be7377c13ff8",
   "metadata": {
    "tags": []
   },
   "outputs": [],
   "source": [
    "from keras.models import Sequential\n",
    "from keras.layers import Dense\n"
   ]
  },
  {
   "cell_type": "code",
   "execution_count": 75,
   "id": "e6e40a9d-6c2d-4e4c-a8b9-2c3799d677fe",
   "metadata": {
    "tags": []
   },
   "outputs": [],
   "source": [
    "Y=data[\"price\"]\n",
    "X=data.drop(\"price\",axis=1)"
   ]
  },
  {
   "cell_type": "code",
   "execution_count": 83,
   "id": "d6a4395d-db18-421c-afd6-5167bae66ba6",
   "metadata": {
    "tags": []
   },
   "outputs": [],
   "source": [
    "X_train , X_test , Y_train ,Y_test = train_test_split(X,Y,test_size=0.2,random_state=42)\n"
   ]
  },
  {
   "cell_type": "code",
   "execution_count": 84,
   "id": "84652f1b-041e-4eb7-8a5a-051f7c6a83c9",
   "metadata": {
    "tags": []
   },
   "outputs": [
    {
     "name": "stdout",
     "output_type": "stream",
     "text": [
      "Epoch 1/100\n",
      "5/5 [==============================] - 1s 50ms/step - loss: 23.8549 - val_loss: 1.8725\n",
      "Epoch 2/100\n",
      "5/5 [==============================] - 0s 21ms/step - loss: 1.0277 - val_loss: 1.4634\n",
      "Epoch 3/100\n",
      "5/5 [==============================] - 0s 22ms/step - loss: 0.7023 - val_loss: 8.2841\n",
      "Epoch 4/100\n",
      "5/5 [==============================] - 0s 24ms/step - loss: 4.1065 - val_loss: 3.3997\n",
      "Epoch 5/100\n",
      "5/5 [==============================] - 0s 23ms/step - loss: 2.3564 - val_loss: 1.5340\n",
      "Epoch 6/100\n",
      "5/5 [==============================] - 0s 22ms/step - loss: 2.4772 - val_loss: 1.2626\n",
      "Epoch 7/100\n",
      "5/5 [==============================] - 0s 23ms/step - loss: 1.1508 - val_loss: 1.4186\n",
      "Epoch 8/100\n",
      "5/5 [==============================] - 0s 23ms/step - loss: 1.1387 - val_loss: 0.8907\n",
      "Epoch 9/100\n",
      "5/5 [==============================] - 0s 24ms/step - loss: 0.5712 - val_loss: 0.4710\n",
      "Epoch 10/100\n",
      "5/5 [==============================] - 0s 24ms/step - loss: 0.3322 - val_loss: 0.2690\n",
      "Epoch 11/100\n",
      "5/5 [==============================] - 0s 22ms/step - loss: 0.2043 - val_loss: 0.2811\n",
      "Epoch 12/100\n",
      "5/5 [==============================] - 0s 24ms/step - loss: 0.1900 - val_loss: 0.5222\n",
      "Epoch 13/100\n",
      "5/5 [==============================] - 0s 22ms/step - loss: 0.3442 - val_loss: 0.1599\n",
      "Epoch 14/100\n",
      "5/5 [==============================] - 0s 25ms/step - loss: 0.1361 - val_loss: 0.1593\n",
      "Epoch 15/100\n",
      "5/5 [==============================] - 0s 24ms/step - loss: 0.1104 - val_loss: 0.1641\n",
      "Epoch 16/100\n",
      "5/5 [==============================] - 0s 23ms/step - loss: 0.0958 - val_loss: 0.1396\n",
      "Epoch 17/100\n",
      "5/5 [==============================] - 0s 22ms/step - loss: 0.0852 - val_loss: 0.1309\n",
      "Epoch 18/100\n",
      "5/5 [==============================] - 0s 24ms/step - loss: 0.0822 - val_loss: 0.1308\n",
      "Epoch 19/100\n",
      "5/5 [==============================] - 0s 21ms/step - loss: 0.0738 - val_loss: 0.2184\n",
      "Epoch 20/100\n",
      "5/5 [==============================] - 0s 25ms/step - loss: 0.0974 - val_loss: 0.2248\n",
      "Epoch 21/100\n",
      "5/5 [==============================] - 0s 24ms/step - loss: 0.1162 - val_loss: 0.1316\n",
      "Epoch 22/100\n",
      "5/5 [==============================] - 0s 27ms/step - loss: 0.1260 - val_loss: 0.6475\n",
      "Epoch 23/100\n",
      "5/5 [==============================] - 0s 25ms/step - loss: 0.2720 - val_loss: 0.4038\n",
      "Epoch 24/100\n",
      "5/5 [==============================] - 0s 23ms/step - loss: 0.1703 - val_loss: 0.1736\n",
      "Epoch 25/100\n",
      "5/5 [==============================] - 0s 23ms/step - loss: 0.1645 - val_loss: 0.3369\n",
      "Epoch 26/100\n",
      "5/5 [==============================] - 0s 24ms/step - loss: 0.1419 - val_loss: 0.2254\n",
      "Epoch 27/100\n",
      "5/5 [==============================] - 0s 26ms/step - loss: 0.0801 - val_loss: 0.1477\n",
      "Epoch 28/100\n",
      "5/5 [==============================] - 0s 26ms/step - loss: 0.0502 - val_loss: 0.2079\n",
      "Epoch 29/100\n",
      "5/5 [==============================] - 0s 27ms/step - loss: 0.0724 - val_loss: 0.1245\n",
      "Epoch 30/100\n",
      "5/5 [==============================] - 0s 24ms/step - loss: 0.0487 - val_loss: 0.1272\n",
      "Epoch 31/100\n",
      "5/5 [==============================] - 0s 22ms/step - loss: 0.0425 - val_loss: 0.1410\n",
      "Epoch 32/100\n",
      "5/5 [==============================] - 0s 27ms/step - loss: 0.0454 - val_loss: 0.1397\n",
      "Epoch 33/100\n",
      "5/5 [==============================] - 0s 23ms/step - loss: 0.0284 - val_loss: 0.1331\n",
      "Epoch 34/100\n",
      "5/5 [==============================] - 0s 23ms/step - loss: 0.0326 - val_loss: 0.1262\n",
      "Epoch 35/100\n",
      "5/5 [==============================] - 0s 24ms/step - loss: 0.0363 - val_loss: 0.2773\n",
      "Epoch 36/100\n",
      "5/5 [==============================] - 0s 23ms/step - loss: 0.0998 - val_loss: 0.1670\n",
      "Epoch 37/100\n",
      "5/5 [==============================] - 0s 24ms/step - loss: 0.0833 - val_loss: 0.1236\n",
      "Epoch 38/100\n",
      "5/5 [==============================] - 0s 21ms/step - loss: 0.0393 - val_loss: 0.1495\n",
      "Epoch 39/100\n",
      "5/5 [==============================] - 0s 23ms/step - loss: 0.0388 - val_loss: 0.1488\n",
      "Epoch 40/100\n",
      "5/5 [==============================] - 0s 23ms/step - loss: 0.0361 - val_loss: 0.1299\n",
      "Epoch 41/100\n",
      "5/5 [==============================] - 0s 21ms/step - loss: 0.0242 - val_loss: 0.1245\n",
      "Epoch 42/100\n",
      "5/5 [==============================] - 0s 23ms/step - loss: 0.0250 - val_loss: 0.1314\n",
      "Epoch 43/100\n",
      "5/5 [==============================] - 0s 22ms/step - loss: 0.0253 - val_loss: 0.1190\n",
      "Epoch 44/100\n",
      "5/5 [==============================] - 0s 24ms/step - loss: 0.0251 - val_loss: 0.1349\n",
      "Epoch 45/100\n",
      "5/5 [==============================] - 0s 23ms/step - loss: 0.0383 - val_loss: 0.2163\n",
      "Epoch 46/100\n",
      "5/5 [==============================] - 0s 22ms/step - loss: 0.1341 - val_loss: 0.1676\n",
      "Epoch 47/100\n",
      "5/5 [==============================] - 0s 22ms/step - loss: 0.0750 - val_loss: 0.3112\n",
      "Epoch 48/100\n",
      "5/5 [==============================] - 0s 21ms/step - loss: 0.1471 - val_loss: 0.2133\n",
      "Epoch 49/100\n",
      "5/5 [==============================] - 0s 27ms/step - loss: 0.1219 - val_loss: 0.1333\n",
      "Epoch 50/100\n",
      "5/5 [==============================] - 0s 25ms/step - loss: 0.1002 - val_loss: 0.1318\n",
      "Epoch 51/100\n",
      "5/5 [==============================] - 0s 25ms/step - loss: 0.0765 - val_loss: 0.2461\n",
      "Epoch 52/100\n",
      "5/5 [==============================] - 0s 25ms/step - loss: 0.0605 - val_loss: 0.1876\n",
      "Epoch 53/100\n",
      "5/5 [==============================] - 0s 25ms/step - loss: 0.0391 - val_loss: 0.1193\n",
      "Epoch 54/100\n",
      "5/5 [==============================] - 0s 26ms/step - loss: 0.0250 - val_loss: 0.1072\n",
      "Epoch 55/100\n",
      "5/5 [==============================] - 0s 25ms/step - loss: 0.0222 - val_loss: 0.1193\n",
      "Epoch 56/100\n",
      "5/5 [==============================] - 0s 22ms/step - loss: 0.0323 - val_loss: 0.1358\n",
      "Epoch 57/100\n",
      "5/5 [==============================] - 0s 22ms/step - loss: 0.0478 - val_loss: 0.1921\n",
      "Epoch 58/100\n",
      "5/5 [==============================] - 0s 23ms/step - loss: 0.0600 - val_loss: 0.1158\n",
      "Epoch 59/100\n",
      "5/5 [==============================] - 0s 23ms/step - loss: 0.0140 - val_loss: 0.1185\n",
      "Epoch 60/100\n",
      "5/5 [==============================] - 0s 24ms/step - loss: 0.0156 - val_loss: 0.1133\n",
      "Epoch 61/100\n",
      "5/5 [==============================] - 0s 27ms/step - loss: 0.0128 - val_loss: 0.1107\n",
      "Epoch 62/100\n",
      "5/5 [==============================] - 0s 24ms/step - loss: 0.0150 - val_loss: 0.1076\n",
      "Epoch 63/100\n",
      "5/5 [==============================] - 0s 26ms/step - loss: 0.0128 - val_loss: 0.1092\n",
      "Epoch 64/100\n",
      "5/5 [==============================] - 0s 24ms/step - loss: 0.0115 - val_loss: 0.1210\n",
      "Epoch 65/100\n",
      "5/5 [==============================] - 0s 22ms/step - loss: 0.0152 - val_loss: 0.1341\n",
      "Epoch 66/100\n",
      "5/5 [==============================] - 0s 23ms/step - loss: 0.0162 - val_loss: 0.1314\n",
      "Epoch 67/100\n",
      "5/5 [==============================] - 0s 24ms/step - loss: 0.0218 - val_loss: 0.1145\n",
      "Epoch 68/100\n",
      "5/5 [==============================] - 0s 24ms/step - loss: 0.0142 - val_loss: 0.1351\n",
      "Epoch 69/100\n",
      "5/5 [==============================] - 0s 24ms/step - loss: 0.0259 - val_loss: 0.1253\n",
      "Epoch 70/100\n",
      "5/5 [==============================] - 0s 25ms/step - loss: 0.0209 - val_loss: 0.1163\n",
      "Epoch 71/100\n",
      "5/5 [==============================] - 0s 26ms/step - loss: 0.0147 - val_loss: 0.1468\n",
      "Epoch 72/100\n",
      "5/5 [==============================] - 0s 26ms/step - loss: 0.0359 - val_loss: 0.1795\n",
      "Epoch 73/100\n",
      "5/5 [==============================] - 0s 27ms/step - loss: 0.0491 - val_loss: 0.1300\n",
      "Epoch 74/100\n",
      "5/5 [==============================] - 0s 25ms/step - loss: 0.0322 - val_loss: 0.1128\n",
      "Epoch 75/100\n",
      "5/5 [==============================] - 0s 22ms/step - loss: 0.0188 - val_loss: 0.1192\n",
      "Epoch 76/100\n",
      "5/5 [==============================] - 0s 25ms/step - loss: 0.0192 - val_loss: 0.1103\n",
      "Epoch 77/100\n",
      "5/5 [==============================] - 0s 22ms/step - loss: 0.0127 - val_loss: 0.1136\n",
      "Epoch 78/100\n",
      "5/5 [==============================] - 0s 24ms/step - loss: 0.0088 - val_loss: 0.1226\n",
      "Epoch 79/100\n",
      "5/5 [==============================] - 0s 24ms/step - loss: 0.0117 - val_loss: 0.1154\n",
      "Epoch 80/100\n",
      "5/5 [==============================] - 0s 25ms/step - loss: 0.0143 - val_loss: 0.1149\n",
      "Epoch 81/100\n",
      "5/5 [==============================] - 0s 23ms/step - loss: 0.0126 - val_loss: 0.1173\n",
      "Epoch 82/100\n",
      "5/5 [==============================] - 0s 22ms/step - loss: 0.0159 - val_loss: 0.1163\n",
      "Epoch 83/100\n",
      "5/5 [==============================] - 0s 24ms/step - loss: 0.0141 - val_loss: 0.1174\n",
      "Epoch 84/100\n",
      "5/5 [==============================] - 0s 26ms/step - loss: 0.0112 - val_loss: 0.1371\n",
      "Epoch 85/100\n",
      "5/5 [==============================] - 0s 26ms/step - loss: 0.0133 - val_loss: 0.1227\n",
      "Epoch 86/100\n",
      "5/5 [==============================] - 0s 23ms/step - loss: 0.0114 - val_loss: 0.1272\n",
      "Epoch 87/100\n",
      "5/5 [==============================] - 0s 27ms/step - loss: 0.0117 - val_loss: 0.1449\n",
      "Epoch 88/100\n",
      "5/5 [==============================] - 0s 24ms/step - loss: 0.0165 - val_loss: 0.1218\n",
      "Epoch 89/100\n",
      "5/5 [==============================] - 0s 22ms/step - loss: 0.0065 - val_loss: 0.1214\n",
      "Epoch 90/100\n",
      "5/5 [==============================] - 0s 23ms/step - loss: 0.0060 - val_loss: 0.1224\n",
      "Epoch 91/100\n",
      "5/5 [==============================] - 0s 24ms/step - loss: 0.0058 - val_loss: 0.1242\n",
      "Epoch 92/100\n",
      "5/5 [==============================] - 0s 26ms/step - loss: 0.0065 - val_loss: 0.1258\n",
      "Epoch 93/100\n",
      "5/5 [==============================] - 0s 27ms/step - loss: 0.0088 - val_loss: 0.1135\n",
      "Epoch 94/100\n",
      "5/5 [==============================] - 0s 25ms/step - loss: 0.0068 - val_loss: 0.1131\n",
      "Epoch 95/100\n",
      "5/5 [==============================] - 0s 24ms/step - loss: 0.0056 - val_loss: 0.1309\n",
      "Epoch 96/100\n",
      "5/5 [==============================] - 0s 23ms/step - loss: 0.0086 - val_loss: 0.1259\n",
      "Epoch 97/100\n",
      "5/5 [==============================] - 0s 22ms/step - loss: 0.0053 - val_loss: 0.1415\n",
      "Epoch 98/100\n",
      "5/5 [==============================] - 0s 24ms/step - loss: 0.0186 - val_loss: 0.1479\n",
      "Epoch 99/100\n",
      "5/5 [==============================] - 0s 24ms/step - loss: 0.0204 - val_loss: 0.1792\n",
      "Epoch 100/100\n",
      "5/5 [==============================] - 0s 26ms/step - loss: 0.0333 - val_loss: 0.1630\n",
      "2/2 [==============================] - 0s 5ms/step - loss: 0.1125\n",
      "Test loss: 0.11247746646404266\n",
      "2/2 [==============================] - 0s 5ms/step - loss: 0.1125\n",
      "Test loss: 0.11247746646404266\n"
     ]
    }
   ],
   "source": [
    "# import tensorflow as tf\n",
    "model =Sequential()\n",
    "\n",
    "model.add(Dense(800,input_dim=X_train.shape[1],activation=\"relu\"))\n",
    "model.add(Dense(600,activation=\"relu\"))\n",
    "model.add(Dense(300, activation='relu'))\n",
    "model.add(Dense(100, activation='relu'))\n",
    "model.add(Dense(59, activation='relu'))\n",
    "# model.add(Dense(10, activation='relu'))\n",
    "model.add(Dense(1, activation='linear'))\n",
    "\n",
    "# model = tf.keras.Sequential([\n",
    "#     tf.keras.layers.Dense(600, activation='relu', input_shape=(X_train.shape[1],)),\n",
    "#     tf.keras.layers.Dense(300, activation='relu'),\n",
    "#     tf.keras.layers.Dense(100, activation='relu'),\n",
    "#     tf.keras.layers.Dense(59, activation='relu'),\n",
    "#     tf.keras.layers.Dense(1)\n",
    "# ])\n",
    "\n",
    "\n",
    "model.compile(loss='mse', optimizer='adam')\n",
    "\n",
    "model.fit(X_train , Y_train ,epochs=100 ,validation_split=0.2)\n",
    "test_loss = model.evaluate(X_test, y_test)\n",
    "print('Test loss:', test_loss)\n",
    "\n",
    "loss = model.evaluate(X_test, y_test)\n",
    "print('Test loss:', loss)\n"
   ]
  },
  {
   "cell_type": "code",
   "execution_count": 85,
   "id": "80639386-511b-4149-98ae-1ea02d581889",
   "metadata": {
    "tags": []
   },
   "outputs": [],
   "source": [
    "# Import necessary libraries\n"
   ]
  },
  {
   "cell_type": "code",
   "execution_count": null,
   "id": "48037b86-9ed9-4763-92c6-55a24e558211",
   "metadata": {
    "tags": []
   },
   "outputs": [],
   "source": []
  },
  {
   "cell_type": "code",
   "execution_count": null,
   "id": "1d047353-717f-428f-b1ae-4d697617b60f",
   "metadata": {},
   "outputs": [],
   "source": []
  },
  {
   "cell_type": "code",
   "execution_count": null,
   "id": "352010fe-0abf-4db0-b32b-1ef79a7cbd38",
   "metadata": {},
   "outputs": [],
   "source": []
  }
 ],
 "metadata": {
  "kernelspec": {
   "display_name": "Python 3 (ipykernel)",
   "language": "python",
   "name": "python3"
  },
  "language_info": {
   "codemirror_mode": {
    "name": "ipython",
    "version": 3
   },
   "file_extension": ".py",
   "mimetype": "text/x-python",
   "name": "python",
   "nbconvert_exporter": "python",
   "pygments_lexer": "ipython3",
   "version": "3.10.6"
  }
 },
 "nbformat": 4,
 "nbformat_minor": 5
}
